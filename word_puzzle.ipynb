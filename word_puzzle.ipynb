{
 "cells": [
  {
   "cell_type": "code",
   "execution_count": 1,
   "metadata": {},
   "outputs": [],
   "source": [
    "\n",
    "def getWords():\n",
    "    # Opens a file named 'words.txt' and extracts all the words in it as list\n",
    "    # 'words.txt' contains 50000+ dictionary words\n",
    "    \n",
    "    filename = \"words.txt\"    \n",
    "    fh = open(filename,\"r\")              # read file\n",
    "    words = fh.readline().split(\" \")     # read the content and split into list\n",
    "    fh.close()                           # close file handle\n",
    "    return words\n",
    "\n",
    "def mapCharacter(word):\n",
    "    # count each letter in 'word' and return a map of letter against count\n",
    "    # the key in the returend dictionary is letter in word and the value is the number of times it occurs in the word\n",
    "    \n",
    "    wordDict = {}     # initialize dictionary\n",
    "    for c in word:\n",
    "        wordDict[c] = wordDict.get(c,0) + 1  # increment current character count in dictionary. \n",
    "    return wordDict\n",
    "\n",
    "def canFormWord(possibleCharMap, charMap):\n",
    "    # checks if 'charMap' is a subset of 'possibleCharMap'\n",
    "    # both inputs are dictionaries\n",
    "    \n",
    "    for c in charMap:\n",
    "        if c not in possibleCharMap:  # return false if a character in 'charMap' is not in 'possibleCharMap'\n",
    "            return False\n",
    "        elif charMap[c] > possibleCharMap[c]:  # return false if a character occurs more in 'charMap' than in 'possibleCharMap'\n",
    "            return False\n",
    "    return True \n",
    "def getNLetterWords(words,possibleCharMap, n):\n",
    "    # returns all n-letter words that can formed from the letters in dictionary 'possibleCharMap'\n",
    "    # words is a list of dictionary words\n",
    "    \n",
    "    nLetterWords = []       # initialize result list\n",
    "    for word in words:    # go through each word in words\n",
    "        if len(word) == n and canFormWord(possibleCharMap,mapCharacter(word)): # check if current word is n-letter and also if the word is a subset of possibleCharMap\n",
    "            nLetterWords.append(word)     # add current word to the result list once it passes the above checks\n",
    "            \n",
    "    return nLetterWords\n",
    "    \n",
    "def solveWordCrossPuzzle(possibleChars, *wordsLength):\n",
    "    # possibleChars is a string of charcters from which to construct all words\n",
    "    # *wordsLength is a variable parameter that represents a list of word lengths to be constructed\n",
    "    # this function returns all dictionary words that can be constructed from 'possibleChars'.\n",
    "    # The length of the returned words must be in 'wordsLength'\n",
    "    \n",
    "    lengthMap = {}\n",
    "    possibleChars = possibleChars.lower()  # convert possibleChars to lower case\n",
    "    possibleCharMap = mapCharacter(possibleChars) # map characters in 'possibleChar'\n",
    "    for i in wordsLength:\n",
    "        # map the number in wordsLength\n",
    "        lengthMap[i] = lengthMap.get(i,0) + 1\n",
    "        \n",
    "    words = getWords()  # get all dictionary words\n",
    "    result = []\n",
    "    for i in lengthMap:\n",
    "        result = result + getNLetterWords(words,possibleCharMap,i) # get words for each word length\n",
    "    return result\n",
    "\n",
    "    "
   ]
  },
  {
   "cell_type": "code",
   "execution_count": 26,
   "metadata": {},
   "outputs": [
    {
     "name": "stdout",
     "output_type": "stream",
     "text": [
      "['elf', 'flu', 'fur', 'rue', 'flex', 'flue', 'flux', 'fuel', 'furl', 'lure', 'luxe', 'rule']\n"
     ]
    }
   ],
   "source": [
    "result = solveWordCrossPuzzle(\"rulxef\",3,4,6)\n",
    "print(result)"
   ]
  },
  {
   "cell_type": "code",
   "execution_count": 6,
   "metadata": {},
   "outputs": [
    {
     "data": {
      "text/plain": [
       "{'c': 1, 'h': 1, 'l': 1, 'o': 2, 's': 1}"
      ]
     },
     "execution_count": 6,
     "metadata": {},
     "output_type": "execute_result"
    }
   ],
   "source": [
    "mapCharacter('school')"
   ]
  },
  {
   "cell_type": "code",
   "execution_count": 8,
   "metadata": {},
   "outputs": [
    {
     "data": {
      "text/plain": [
       "False"
      ]
     },
     "execution_count": 8,
     "metadata": {},
     "output_type": "execute_result"
    }
   ],
   "source": [
    "possibleChar = \"amne\"\n",
    "word = \"ami\"\n",
    "mp1 = mapCharacter(possibleChar)\n",
    "mp2 = mapCharacter(word)\n",
    "canFormWord(mp1, mp2)"
   ]
  }
 ],
 "metadata": {
  "kernelspec": {
   "display_name": "Python 3",
   "language": "python",
   "name": "python3"
  },
  "language_info": {
   "codemirror_mode": {
    "name": "ipython",
    "version": 3
   },
   "file_extension": ".py",
   "mimetype": "text/x-python",
   "name": "python",
   "nbconvert_exporter": "python",
   "pygments_lexer": "ipython3",
   "version": "3.6.4"
  }
 },
 "nbformat": 4,
 "nbformat_minor": 2
}
